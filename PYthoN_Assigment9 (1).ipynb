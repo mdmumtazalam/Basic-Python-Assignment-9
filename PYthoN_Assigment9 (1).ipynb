{
  "nbformat": 4,
  "nbformat_minor": 0,
  "metadata": {
    "colab": {
      "provenance": [],
      "toc_visible": true
    },
    "kernelspec": {
      "name": "python3",
      "display_name": "Python 3"
    },
    "language_info": {
      "name": "python"
    }
  },
  "cells": [
    {
      "cell_type": "markdown",
      "source": [
        "1. To what does a relative path refer?\n",
        "\n",
        "A relative path refers to a location that is relative to a current directory. Relative paths make use of two special symbols, a dot (.) and a double-dot (..), Relative paths are relative to the current working directory."
      ],
      "metadata": {
        "id": "0JQvAr1fj1Tx"
      }
    },
    {
      "cell_type": "markdown",
      "source": [
        "What does an absolute path start with your operating system? \n",
        "\n",
        "ANS- Absolute paths start with the root folder, such as / or C:."
      ],
      "metadata": {
        "id": "n0tdzhOdkbTC"
      }
    },
    {
      "cell_type": "markdown",
      "source": [],
      "metadata": {
        "id": "qSg-4qCHkfcs"
      }
    },
    {
      "cell_type": "markdown",
      "source": [
        "3. What do the functions os.getcwd() and os.chdir() do?\n",
        "\n",
        "The os.getcwd() function returns the current working directory. The os.chdir() function changes the current working directory."
      ],
      "metadata": {
        "id": "UET480a8khpQ"
      }
    },
    {
      "cell_type": "markdown",
      "source": [
        "4. What are the . and .. folders?\n",
        "\n"
      ],
      "metadata": {
        "id": "X1R2NQqUlK-X"
      }
    },
    {
      "cell_type": "markdown",
      "source": [
        "ANS-The . folder is the current folder, and .. is the parent folder."
      ],
      "metadata": {
        "id": "h2q9BaDmlX7T"
      }
    },
    {
      "cell_type": "markdown",
      "source": [
        "5. In C:\\bacon\\eggs\\spam.txt, which part is the dir name, and which part is the base name?\n",
        "\n",
        "C:\\bacon\\eggs is the dir name, while spam.txt is the base name."
      ],
      "metadata": {
        "id": "gYegvehGlcBR"
      }
    },
    {
      "cell_type": "markdown",
      "source": [
        "What are the three \"mode\" arguments that can be passed to the open() function?\n",
        "\n",
        "The string 'r' for read mode, 'w' for write mode, and 'a' for append mode"
      ],
      "metadata": {
        "id": "cYepTZVUmVtv"
      }
    },
    {
      "cell_type": "markdown",
      "source": [
        "What happens if an existing file is opened in write mode?\n",
        "\n",
        "\n",
        "An existing file opened in write mode is erased and completely overwritten."
      ],
      "metadata": {
        "id": "5n8vY7A9mhny"
      }
    },
    {
      "cell_type": "markdown",
      "source": [
        "What is the difference between the read() and readlines() methods?\n",
        "\n",
        "\n",
        "The read() method returns the file's entire contents as a single string value. The readlines() method returns a list of strings, where each string is a line from the file's contents."
      ],
      "metadata": {
        "id": "kmGAcl1Rmrc_"
      }
    },
    {
      "cell_type": "markdown",
      "source": [
        "What data structure does a shelf value resemble?\n",
        "\n",
        "A shelf value resembles a dictionary value; it has keys and values, along with keys() and values() methods that work similarly to the dictionary methods of the same names."
      ],
      "metadata": {
        "id": "Xs-6Eqknm9PI"
      }
    }
  ]
}